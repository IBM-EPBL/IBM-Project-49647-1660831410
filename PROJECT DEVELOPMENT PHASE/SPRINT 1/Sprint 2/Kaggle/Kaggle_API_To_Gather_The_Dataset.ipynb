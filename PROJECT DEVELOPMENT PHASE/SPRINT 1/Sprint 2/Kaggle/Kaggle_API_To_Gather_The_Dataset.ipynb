{
  "nbformat": 4,
  "nbformat_minor": 0,
  "metadata": {
    "colab": {
      "provenance": [],
      "collapsed_sections": []
    },
    "kernelspec": {
      "name": "python3",
      "display_name": "Python 3"
    },
    "language_info": {
      "name": "python"
    }
  },
  "cells": [
    {
      "cell_type": "code",
      "execution_count": null,
      "metadata": {
        "id": "bs8dg0jUvzd9"
      },
      "outputs": [],
      "source": [
        "!pip install -q kaggle"
      ]
    },
    {
      "cell_type": "code",
      "source": [
        "!mkdir ~/.kaggle #create a kaggle direction"
      ],
      "metadata": {
        "id": "Fvsu6OyoxEcS"
      },
      "execution_count": null,
      "outputs": []
    },
    {
      "cell_type": "code",
      "source": [
        "!cp kaggle.json ~/.kaggle/ #copying json file to folder"
      ],
      "metadata": {
        "id": "W-uE5sFOxPEC"
      },
      "execution_count": null,
      "outputs": []
    },
    {
      "cell_type": "code",
      "source": [
        "!chmod 600 ~/.kaggle/kaggle.json #changing the permission to json"
      ],
      "metadata": {
        "id": "xZrjQQKyxVdE"
      },
      "execution_count": null,
      "outputs": []
    },
    {
      "cell_type": "code",
      "source": [
        "!kaggle datasets download -d ajayganga/employee-attrition"
      ],
      "metadata": {
        "colab": {
          "base_uri": "https://localhost:8080/"
        },
        "id": "UsH15iN0xcsc",
        "outputId": "260cc91a-3479-4917-b93d-6578271efaa1"
      },
      "execution_count": null,
      "outputs": [
        {
          "output_type": "stream",
          "name": "stdout",
          "text": [
            "Downloading employee-attrition.zip to /content\n",
            "\r  0% 0.00/120k [00:00<?, ?B/s]\n",
            "\r100% 120k/120k [00:00<00:00, 69.5MB/s]\n"
          ]
        }
      ]
    },
    {
      "cell_type": "code",
      "source": [
        "!unzip /content/employee-attrition.zip"
      ],
      "metadata": {
        "colab": {
          "base_uri": "https://localhost:8080/"
        },
        "id": "7SYbyRCpzzVQ",
        "outputId": "9b6b6374-4b0f-417b-dbfc-512baa25876c"
      },
      "execution_count": null,
      "outputs": [
        {
          "output_type": "stream",
          "name": "stdout",
          "text": [
            "Archive:  /content/employee-attrition.zip\n",
            "  inflating: employee_survey_data.csv  \n",
            "  inflating: general_data.csv        \n",
            "  inflating: manager_survey_data.csv  \n"
          ]
        }
      ]
    }
  ]
}